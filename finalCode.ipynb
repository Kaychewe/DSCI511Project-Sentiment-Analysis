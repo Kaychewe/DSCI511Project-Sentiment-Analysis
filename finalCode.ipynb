{
 "cells": [
  {
   "cell_type": "code",
   "execution_count": null,
   "metadata": {},
   "outputs": [],
   "source": [
    "# Acquisition \n",
    "# Step 1 -- downloading the datasets automatically \n",
    "import request \n",
    "\n",
    "\n",
    "\n"
   ]
  },
  {
   "cell_type": "code",
   "execution_count": null,
   "metadata": {},
   "outputs": [],
   "source": [
    "# Acquisiton \n",
    "# Step 2 -- Reddit Code \n",
    "\n",
    "\n",
    "\n",
    "\n",
    "# save the file as csv "
   ]
  },
  {
   "cell_type": "code",
   "execution_count": null,
   "metadata": {},
   "outputs": [],
   "source": [
    "# Construction \n",
    "# Step 1/2 -- Clean Kaggle \n",
    "import pandas as pd\n",
    "\n",
    "data = pd.read_csv('dreaddit-test.csv')\n",
    "\n",
    "data.drop(data.columns.difference(['text']), axis=1, inplace=True)\n",
    "\n",
    "data[\"text\"] = data[\"text\"].str.lower()\n",
    "\n",
    "users = {}\n",
    "for index, row in data.iterrows():\n",
    "    if row['text'] not in users:\n",
    "        users[row['text']] = []\n",
    "\n",
    "for key in users:\n",
    "    print(key, users[key],\"\\n\")\n",
    "\n"
   ]
  },
  {
   "cell_type": "code",
   "execution_count": null,
   "metadata": {},
   "outputs": [],
   "source": [
    "# Construction \n",
    "# Step 2/2 -- Clean Reddit File "
   ]
  },
  {
   "cell_type": "code",
   "execution_count": null,
   "metadata": {},
   "outputs": [],
   "source": [
    "# Integration \n",
    "# Step 1 -- Combine the final file \n"
   ]
  },
  {
   "cell_type": "code",
   "execution_count": null,
   "metadata": {},
   "outputs": [],
   "source": [
    "# Build Models + Test\n",
    "# Model 1: NLTK "
   ]
  },
  {
   "cell_type": "code",
   "execution_count": null,
   "metadata": {},
   "outputs": [],
   "source": [
    "# Model 2: Machine Learning + Neural Network \n",
    "\n"
   ]
  },
  {
   "cell_type": "code",
   "execution_count": null,
   "metadata": {},
   "outputs": [],
   "source": [
    "# Validation \n",
    "# How accurate is the model vs testing sets "
   ]
  },
  {
   "cell_type": "code",
   "execution_count": null,
   "metadata": {},
   "outputs": [],
   "source": [
    "# Plot Graphs, Figures + Final Presenatation "
   ]
  }
 ],
 "metadata": {
  "language_info": {
   "name": "python"
  },
  "orig_nbformat": 4
 },
 "nbformat": 4,
 "nbformat_minor": 2
}
