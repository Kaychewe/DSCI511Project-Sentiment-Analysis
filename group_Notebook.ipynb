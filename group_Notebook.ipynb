{
 "cells": [
  {
   "attachments": {},
   "cell_type": "markdown",
   "metadata": {},
   "source": [
    "\n",
    "##### 1. Clean data (input .. csv) ---> https://realpython.com/python-data-cleaning-numpy-pandas/ (Kholoud)\n",
    "##### 2. Load the text data for each user -- convert into a dict (Kholoud) \n",
    "********************** 2 or 3 days *********************************************\n",
    "##### 3. Build a model that classifies the mental health based on the users post \n",
    "    # Regular expression \n",
    "    # text file (ptsd_keywords.txt) ----compare post ------> 40% ignore\n",
    "    # machine learning ----> https://www.analyticsvidhya.com/blog/2022/03/building-naive-bayes-classifier-from-scratch-to-perform-sentiment-analysis/ -> (Kasonde)\n",
    "\n",
    "********************** 2 or 3 days *********************************************\n",
    "\n",
    "##### 4. Validation --> Obtain data from twitter or reddit (API's) ---> (Ghanath)\n",
    "\n",
    "********************** 2 or 3 days *********************************************\n",
    "##### 5. Run the model again  -- All members \n",
    "##### 6. Serilization (output) --> JSON format (summary report)\n",
    "\n",
    "#### 7. Presentation "
   ]
  },
  {
   "cell_type": "code",
   "execution_count": 1,
   "metadata": {},
   "outputs": [],
   "source": [
    "import pandas \n",
    "\n",
    "df = pandas.read_csv(\"dreaddit-test.csv\")\n",
    "\n"
   ]
  },
  {
   "attachments": {},
   "cell_type": "markdown",
   "metadata": {},
   "source": [
    "print(df)"
   ]
  },
  {
   "cell_type": "code",
   "execution_count": 13,
   "metadata": {},
   "outputs": [
    {
     "name": "stdout",
     "output_type": "stream",
     "text": [
      "My ex used to shoot back with \"Do you want me to go with you?\" all the time, no matter what it was. I almost wonder if I blocked out him asking me that about our own wedding. I unloaded a terrible memory of this on my current BF today and he took it like a champ, I just could not stop chasing myself in circles over this and knew if I heard any sort of similar phrase I would lose it. I just needed to throw this out in the open, where others who might understand could 'hear' it.\n"
     ]
    }
   ],
   "source": [
    "\n",
    "print(df['text'][3])"
   ]
  },
  {
   "cell_type": "code",
   "execution_count": null,
   "metadata": {},
   "outputs": [],
   "source": [
    "print('1')"
   ]
  }
 ],
 "metadata": {
  "kernelspec": {
   "display_name": "Python 3",
   "language": "python",
   "name": "python3"
  },
  "language_info": {
   "codemirror_mode": {
    "name": "ipython",
    "version": 3
   },
   "file_extension": ".py",
   "mimetype": "text/x-python",
   "name": "python",
   "nbconvert_exporter": "python",
   "pygments_lexer": "ipython3",
   "version": "3.11.2"
  },
  "orig_nbformat": 4
 },
 "nbformat": 4,
 "nbformat_minor": 2
}
